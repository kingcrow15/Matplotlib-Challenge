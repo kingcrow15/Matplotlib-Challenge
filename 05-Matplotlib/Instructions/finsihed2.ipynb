{
 "cells": [
  {
   "cell_type": "markdown",
   "metadata": {},
   "source": [
    "## Observations and Insights"
   ]
  },
  {
   "cell_type": "markdown",
   "metadata": {},
   "source": [
    "My observationsa are as follows there is a positive coreelation between mouse size and average Tumor volume. in the spacific case of mouse s185 the treatment was effective and the tumor shrank, though this was not the case across the board. Capomulin had a comparitively tight data set. gender was almost perfectly even, and thus did not bias our data. The total number of test is statistically significant with Capomulin being in the lead. \n"
   ]
  },
  {
   "cell_type": "markdown",
   "metadata": {},
   "source": []
  },
  {
   "cell_type": "markdown",
   "metadata": {},
   "source": [
    "## Dependencies and starter code"
   ]
  },
  {
   "cell_type": "code",
   "execution_count": 119,
   "metadata": {},
   "outputs": [
    {
     "data": {
      "text/html": [
       "<div>\n",
       "<style scoped>\n",
       "    .dataframe tbody tr th:only-of-type {\n",
       "        vertical-align: middle;\n",
       "    }\n",
       "\n",
       "    .dataframe tbody tr th {\n",
       "        vertical-align: top;\n",
       "    }\n",
       "\n",
       "    .dataframe thead th {\n",
       "        text-align: right;\n",
       "    }\n",
       "</style>\n",
       "<table border=\"1\" class=\"dataframe\">\n",
       "  <thead>\n",
       "    <tr style=\"text-align: right;\">\n",
       "      <th></th>\n",
       "      <th>Mouse ID</th>\n",
       "      <th>Drug Regimen</th>\n",
       "      <th>Sex</th>\n",
       "      <th>Age_months</th>\n",
       "      <th>Weight (g)</th>\n",
       "      <th>Timepoint</th>\n",
       "      <th>Tumor Volume (mm3)</th>\n",
       "      <th>Metastatic Sites</th>\n",
       "    </tr>\n",
       "  </thead>\n",
       "  <tbody>\n",
       "    <tr>\n",
       "      <td>0</td>\n",
       "      <td>k403</td>\n",
       "      <td>Ramicane</td>\n",
       "      <td>Male</td>\n",
       "      <td>21</td>\n",
       "      <td>16</td>\n",
       "      <td>0</td>\n",
       "      <td>45.000000</td>\n",
       "      <td>0</td>\n",
       "    </tr>\n",
       "    <tr>\n",
       "      <td>1</td>\n",
       "      <td>k403</td>\n",
       "      <td>Ramicane</td>\n",
       "      <td>Male</td>\n",
       "      <td>21</td>\n",
       "      <td>16</td>\n",
       "      <td>5</td>\n",
       "      <td>38.825898</td>\n",
       "      <td>0</td>\n",
       "    </tr>\n",
       "    <tr>\n",
       "      <td>2</td>\n",
       "      <td>k403</td>\n",
       "      <td>Ramicane</td>\n",
       "      <td>Male</td>\n",
       "      <td>21</td>\n",
       "      <td>16</td>\n",
       "      <td>10</td>\n",
       "      <td>35.014271</td>\n",
       "      <td>1</td>\n",
       "    </tr>\n",
       "    <tr>\n",
       "      <td>3</td>\n",
       "      <td>k403</td>\n",
       "      <td>Ramicane</td>\n",
       "      <td>Male</td>\n",
       "      <td>21</td>\n",
       "      <td>16</td>\n",
       "      <td>15</td>\n",
       "      <td>34.223992</td>\n",
       "      <td>1</td>\n",
       "    </tr>\n",
       "    <tr>\n",
       "      <td>4</td>\n",
       "      <td>k403</td>\n",
       "      <td>Ramicane</td>\n",
       "      <td>Male</td>\n",
       "      <td>21</td>\n",
       "      <td>16</td>\n",
       "      <td>20</td>\n",
       "      <td>32.997729</td>\n",
       "      <td>1</td>\n",
       "    </tr>\n",
       "    <tr>\n",
       "      <td>...</td>\n",
       "      <td>...</td>\n",
       "      <td>...</td>\n",
       "      <td>...</td>\n",
       "      <td>...</td>\n",
       "      <td>...</td>\n",
       "      <td>...</td>\n",
       "      <td>...</td>\n",
       "      <td>...</td>\n",
       "    </tr>\n",
       "    <tr>\n",
       "      <td>1888</td>\n",
       "      <td>z969</td>\n",
       "      <td>Naftisol</td>\n",
       "      <td>Male</td>\n",
       "      <td>9</td>\n",
       "      <td>30</td>\n",
       "      <td>25</td>\n",
       "      <td>63.145652</td>\n",
       "      <td>2</td>\n",
       "    </tr>\n",
       "    <tr>\n",
       "      <td>1889</td>\n",
       "      <td>z969</td>\n",
       "      <td>Naftisol</td>\n",
       "      <td>Male</td>\n",
       "      <td>9</td>\n",
       "      <td>30</td>\n",
       "      <td>30</td>\n",
       "      <td>65.841013</td>\n",
       "      <td>3</td>\n",
       "    </tr>\n",
       "    <tr>\n",
       "      <td>1890</td>\n",
       "      <td>z969</td>\n",
       "      <td>Naftisol</td>\n",
       "      <td>Male</td>\n",
       "      <td>9</td>\n",
       "      <td>30</td>\n",
       "      <td>35</td>\n",
       "      <td>69.176246</td>\n",
       "      <td>4</td>\n",
       "    </tr>\n",
       "    <tr>\n",
       "      <td>1891</td>\n",
       "      <td>z969</td>\n",
       "      <td>Naftisol</td>\n",
       "      <td>Male</td>\n",
       "      <td>9</td>\n",
       "      <td>30</td>\n",
       "      <td>40</td>\n",
       "      <td>70.314904</td>\n",
       "      <td>4</td>\n",
       "    </tr>\n",
       "    <tr>\n",
       "      <td>1892</td>\n",
       "      <td>z969</td>\n",
       "      <td>Naftisol</td>\n",
       "      <td>Male</td>\n",
       "      <td>9</td>\n",
       "      <td>30</td>\n",
       "      <td>45</td>\n",
       "      <td>73.867845</td>\n",
       "      <td>4</td>\n",
       "    </tr>\n",
       "  </tbody>\n",
       "</table>\n",
       "<p>1893 rows × 8 columns</p>\n",
       "</div>"
      ],
      "text/plain": [
       "     Mouse ID Drug Regimen   Sex  Age_months  Weight (g)  Timepoint  \\\n",
       "0        k403     Ramicane  Male          21          16          0   \n",
       "1        k403     Ramicane  Male          21          16          5   \n",
       "2        k403     Ramicane  Male          21          16         10   \n",
       "3        k403     Ramicane  Male          21          16         15   \n",
       "4        k403     Ramicane  Male          21          16         20   \n",
       "...       ...          ...   ...         ...         ...        ...   \n",
       "1888     z969     Naftisol  Male           9          30         25   \n",
       "1889     z969     Naftisol  Male           9          30         30   \n",
       "1890     z969     Naftisol  Male           9          30         35   \n",
       "1891     z969     Naftisol  Male           9          30         40   \n",
       "1892     z969     Naftisol  Male           9          30         45   \n",
       "\n",
       "      Tumor Volume (mm3)  Metastatic Sites  \n",
       "0              45.000000                 0  \n",
       "1              38.825898                 0  \n",
       "2              35.014271                 1  \n",
       "3              34.223992                 1  \n",
       "4              32.997729                 1  \n",
       "...                  ...               ...  \n",
       "1888           63.145652                 2  \n",
       "1889           65.841013                 3  \n",
       "1890           69.176246                 4  \n",
       "1891           70.314904                 4  \n",
       "1892           73.867845                 4  \n",
       "\n",
       "[1893 rows x 8 columns]"
      ]
     },
     "execution_count": 119,
     "metadata": {},
     "output_type": "execute_result"
    }
   ],
   "source": [
    "# Dependencies and Setup\n",
    "import matplotlib.pyplot as plt\n",
    "import pandas as pd\n",
    "import scipy.stats as st\n",
    "import numpy as np\n",
    "\n",
    "# Study data files\n",
    "mouse_metadata = \"data/Mouse_metadata.csv\"\n",
    "study_results = \"data/Study_results.csv\"\n",
    "\n",
    "# Read the mouse data and the study results\n",
    "mouse_metadata = pd.read_csv(mouse_metadata)\n",
    "study_results = pd.read_csv(study_results)\n",
    "\n",
    "# Combine the data into a single dataset\n",
    "mouse_metadata\n",
    "\n",
    "study_results\n",
    "\n",
    "combined_meta_mouse = pd.merge(mouse_metadata, study_results, on='Mouse ID')\n",
    "combined_meta_mouse"
   ]
  },
  {
   "cell_type": "markdown",
   "metadata": {},
   "source": [
    "## Summary statistics"
   ]
  },
  {
   "cell_type": "code",
   "execution_count": 120,
   "metadata": {},
   "outputs": [
    {
     "data": {
      "text/html": [
       "<div>\n",
       "<style scoped>\n",
       "    .dataframe tbody tr th:only-of-type {\n",
       "        vertical-align: middle;\n",
       "    }\n",
       "\n",
       "    .dataframe tbody tr th {\n",
       "        vertical-align: top;\n",
       "    }\n",
       "\n",
       "    .dataframe thead th {\n",
       "        text-align: right;\n",
       "    }\n",
       "</style>\n",
       "<table border=\"1\" class=\"dataframe\">\n",
       "  <thead>\n",
       "    <tr style=\"text-align: right;\">\n",
       "      <th></th>\n",
       "      <th>Mean Vol (mm3)</th>\n",
       "      <th>median Vol (mm3)</th>\n",
       "      <th>variance (mm3)</th>\n",
       "      <th>St-Dv (mm3)</th>\n",
       "      <th>Standard error (mm3)</th>\n",
       "    </tr>\n",
       "    <tr>\n",
       "      <th>Drug Regimen</th>\n",
       "      <th></th>\n",
       "      <th></th>\n",
       "      <th></th>\n",
       "      <th></th>\n",
       "      <th></th>\n",
       "    </tr>\n",
       "  </thead>\n",
       "  <tbody>\n",
       "    <tr>\n",
       "      <td>Capomulin</td>\n",
       "      <td>40.675741</td>\n",
       "      <td>41.557809</td>\n",
       "      <td>24.947764</td>\n",
       "      <td>4.994774</td>\n",
       "      <td>0.329346</td>\n",
       "    </tr>\n",
       "    <tr>\n",
       "      <td>Ceftamin</td>\n",
       "      <td>52.591172</td>\n",
       "      <td>51.776157</td>\n",
       "      <td>39.290177</td>\n",
       "      <td>6.268188</td>\n",
       "      <td>0.469821</td>\n",
       "    </tr>\n",
       "    <tr>\n",
       "      <td>Infubinol</td>\n",
       "      <td>52.884795</td>\n",
       "      <td>51.820584</td>\n",
       "      <td>43.128684</td>\n",
       "      <td>6.567243</td>\n",
       "      <td>0.492236</td>\n",
       "    </tr>\n",
       "    <tr>\n",
       "      <td>Ketapril</td>\n",
       "      <td>55.235638</td>\n",
       "      <td>53.698743</td>\n",
       "      <td>68.553577</td>\n",
       "      <td>8.279709</td>\n",
       "      <td>0.603860</td>\n",
       "    </tr>\n",
       "    <tr>\n",
       "      <td>Naftisol</td>\n",
       "      <td>54.331565</td>\n",
       "      <td>52.509285</td>\n",
       "      <td>66.173479</td>\n",
       "      <td>8.134708</td>\n",
       "      <td>0.596466</td>\n",
       "    </tr>\n",
       "    <tr>\n",
       "      <td>Placebo</td>\n",
       "      <td>54.033581</td>\n",
       "      <td>52.288934</td>\n",
       "      <td>61.168083</td>\n",
       "      <td>7.821003</td>\n",
       "      <td>0.581331</td>\n",
       "    </tr>\n",
       "    <tr>\n",
       "      <td>Propriva</td>\n",
       "      <td>52.322552</td>\n",
       "      <td>50.854632</td>\n",
       "      <td>42.351070</td>\n",
       "      <td>6.507770</td>\n",
       "      <td>0.512884</td>\n",
       "    </tr>\n",
       "    <tr>\n",
       "      <td>Ramicane</td>\n",
       "      <td>40.216745</td>\n",
       "      <td>40.673236</td>\n",
       "      <td>23.486704</td>\n",
       "      <td>4.846308</td>\n",
       "      <td>0.320955</td>\n",
       "    </tr>\n",
       "    <tr>\n",
       "      <td>Stelasyn</td>\n",
       "      <td>54.233149</td>\n",
       "      <td>52.431737</td>\n",
       "      <td>59.450562</td>\n",
       "      <td>7.710419</td>\n",
       "      <td>0.573111</td>\n",
       "    </tr>\n",
       "    <tr>\n",
       "      <td>Zoniferol</td>\n",
       "      <td>53.236507</td>\n",
       "      <td>51.818479</td>\n",
       "      <td>48.533355</td>\n",
       "      <td>6.966589</td>\n",
       "      <td>0.516398</td>\n",
       "    </tr>\n",
       "  </tbody>\n",
       "</table>\n",
       "</div>"
      ],
      "text/plain": [
       "              Mean Vol (mm3)  median Vol (mm3)  variance (mm3)  St-Dv (mm3)  \\\n",
       "Drug Regimen                                                                  \n",
       "Capomulin          40.675741         41.557809       24.947764     4.994774   \n",
       "Ceftamin           52.591172         51.776157       39.290177     6.268188   \n",
       "Infubinol          52.884795         51.820584       43.128684     6.567243   \n",
       "Ketapril           55.235638         53.698743       68.553577     8.279709   \n",
       "Naftisol           54.331565         52.509285       66.173479     8.134708   \n",
       "Placebo            54.033581         52.288934       61.168083     7.821003   \n",
       "Propriva           52.322552         50.854632       42.351070     6.507770   \n",
       "Ramicane           40.216745         40.673236       23.486704     4.846308   \n",
       "Stelasyn           54.233149         52.431737       59.450562     7.710419   \n",
       "Zoniferol          53.236507         51.818479       48.533355     6.966589   \n",
       "\n",
       "              Standard error (mm3)  \n",
       "Drug Regimen                        \n",
       "Capomulin                 0.329346  \n",
       "Ceftamin                  0.469821  \n",
       "Infubinol                 0.492236  \n",
       "Ketapril                  0.603860  \n",
       "Naftisol                  0.596466  \n",
       "Placebo                   0.581331  \n",
       "Propriva                  0.512884  \n",
       "Ramicane                  0.320955  \n",
       "Stelasyn                  0.573111  \n",
       "Zoniferol                 0.516398  "
      ]
     },
     "execution_count": 120,
     "metadata": {},
     "output_type": "execute_result"
    }
   ],
   "source": [
    "# Generate a summary statistics table of mean, median, variance, standard deviation, and SEM of the tumor volume for each regiment\n",
    "mean_tumor = pd.DataFrame(combined_meta_mouse.groupby([\"Drug Regimen\"])[\"Tumor Volume (mm3)\"].mean())\n",
    "mean_tumor = mean_tumor.rename(columns={\"Tumor Volume (mm3)\": \"Mean Vol (mm3)\"})\n",
    "mean_tumor\n",
    "\n",
    "# Median\n",
    "Median_tumor = pd.DataFrame(combined_meta_mouse.groupby([\"Drug Regimen\"])[\"Tumor Volume (mm3)\"].median())\n",
    "Median_tumor = Median_tumor.rename(columns={\"Tumor Volume (mm3)\": \"median Vol (mm3)\"})\n",
    "Median_tumor\n",
    "\n",
    "# Variance\n",
    "Var_tumor = pd.DataFrame(combined_meta_mouse.groupby([\"Drug Regimen\"])[\"Tumor Volume (mm3)\"].var())\n",
    "Var_tumor = Var_tumor.rename(columns={\"Tumor Volume (mm3)\": \"variance (mm3)\"})\n",
    "Var_tumor\n",
    "\n",
    "# Standard Dev\n",
    "STD_tumor = pd.DataFrame(combined_meta_mouse.groupby([\"Drug Regimen\"])[\"Tumor Volume (mm3)\"].std())\n",
    "STD_tumor = STD_tumor.rename(columns={\"Tumor Volume (mm3)\": \"St-Dv (mm3)\"})\n",
    "STD_tumor\n",
    "\n",
    "# standard error\n",
    "SEM_tumor = pd.DataFrame(combined_meta_mouse.groupby([\"Drug Regimen\"])[\"Tumor Volume (mm3)\"].sem())\n",
    "SEM_tumor = SEM_tumor.rename(columns={\"Tumor Volume (mm3)\": \"Standard error (mm3)\"})\n",
    "SEM_tumor\n",
    "\n",
    "# 4 step Merge\n",
    "Med_mode_df = pd.merge(mean_tumor, Median_tumor,  how='left', left_on=['Drug Regimen'], right_on = ['Drug Regimen'])\n",
    "Med_mode_df\n",
    "Var_STD = pd.merge(Var_tumor, STD_tumor,  how='left', left_on=['Drug Regimen'], right_on = ['Drug Regimen'])\n",
    "Var_STD\n",
    "Var_STD_Med_mode_df = pd.merge(Med_mode_df, Var_STD,  how='left', left_on=['Drug Regimen'], right_on = ['Drug Regimen'])\n",
    "Var_STD_Med_mode_df\n",
    "Var_STD_Med_mode_SEM_df = pd.merge(Var_STD_Med_mode_df, SEM_tumor,  how='left', left_on=['Drug Regimen'], right_on = ['Drug Regimen'])\n",
    "Var_STD_Med_mode_SEM_df"
   ]
  },
  {
   "cell_type": "markdown",
   "metadata": {},
   "source": [
    "## Bar plots\n"
   ]
  },
  {
   "cell_type": "code",
   "execution_count": 311,
   "metadata": {},
   "outputs": [
    {
     "data": {
      "image/png": "[encoded data removed]",
      "text/plain": [
       "<Figure size 1008x288 with 1 Axes>"
      ]
     },
     "metadata": {
      "needs_background": "light"
     },
     "output_type": "display_data"
    }
   ],
   "source": [
    "# Generate a bar plot showing number of data points for each treatment regimen using pandas\n",
    "col_one_list = Var_STD_Med_mode_SEM_df.index\n",
    "col_one_list = col_one_list.tolist()\n",
    "col_one_list\n",
    "combined_meta_mouse\n",
    "Drug_Regimen = pd.DataFrame(combined_meta_mouse[\"Drug Regimen\"].value_counts())\n",
    "Drug_Regimen = Drug_regimen.rename(columns={\"Data Points\": \"Total Treatments\"})\n",
    "Drug_Regimen\n",
    "Drug_Regimen.plot.bar(y=\"Total Treatments\", width=0.65, color=\"teal\", legend=False)\n",
    "plt.ylabel(\"Total Treatments\")\n",
    "plt.xlabel('treatment regimen')\n",
    "plt.title(\"Number of Data Points Per treatment\")\n",
    "plt.xlim(-0.5,9.5)\n",
    "plt.ylim(0,250)\n",
    "plt.xticks(rotation=45)\n",
    "plt.rcParams[\"figure.figsize\"] = (14, 4)\n",
    "plt.show()\n",
    "# Set the 'Country Code' to be our index for easy referencing of rows\n",
    "# Plot the bar graph"
   ]
  },
  {
   "cell_type": "code",
   "execution_count": 319,
   "metadata": {},
   "outputs": [
    {
     "data": {
      "image/png": "[encoded data removed]",
      "text/plain": [
       "<Figure size 1008x288 with 1 Axes>"
      ]
     },
     "metadata": {
      "needs_background": "light"
     },
     "output_type": "display_data"
    },
    {
     "ename": "TypeError",
     "evalue": "'DataFrame' object is not callable",
     "output_type": "error",
     "traceback": [
      "\u001b[1;31m---------------------------------------------------------------------------\u001b[0m",
      "\u001b[1;31mTypeError\u001b[0m                                 Traceback (most recent call last)",
      "\u001b[1;32m<ipython-input-319-229fd2fa9a94>\u001b[0m in \u001b[0;36m<module>\u001b[1;34m\u001b[0m\n\u001b[0;32m      9\u001b[0m \u001b[0mplt\u001b[0m\u001b[1;33m.\u001b[0m\u001b[0mrcParams\u001b[0m\u001b[1;33m[\u001b[0m\u001b[1;34m\"figure.figsize\"\u001b[0m\u001b[1;33m]\u001b[0m \u001b[1;33m=\u001b[0m \u001b[1;33m(\u001b[0m\u001b[1;36m14\u001b[0m\u001b[1;33m,\u001b[0m \u001b[1;36m4\u001b[0m\u001b[1;33m)\u001b[0m\u001b[1;33m\u001b[0m\u001b[1;33m\u001b[0m\u001b[0m\n\u001b[0;32m     10\u001b[0m \u001b[0mplt\u001b[0m\u001b[1;33m.\u001b[0m\u001b[0mshow\u001b[0m\u001b[1;33m(\u001b[0m\u001b[1;33m)\u001b[0m\u001b[1;33m\u001b[0m\u001b[1;33m\u001b[0m\u001b[0m\n\u001b[1;32m---> 11\u001b[1;33m \u001b[0mprint\u001b[0m\u001b[1;33m(\u001b[0m\u001b[0mDrug_regimen\u001b[0m\u001b[1;33m(\u001b[0m\u001b[1;34m\"treatment regimen\"\u001b[0m\u001b[1;33m)\u001b[0m\u001b[1;33m)\u001b[0m\u001b[1;33m\u001b[0m\u001b[1;33m\u001b[0m\u001b[0m\n\u001b[0m",
      "\u001b[1;31mTypeError\u001b[0m: 'DataFrame' object is not callable"
     ]
    }
   ],
   "source": [
    "# Generate a bar plot showing number of data points for each treatment regimen using pyplot\n",
    "Drug_regimen.plot.bar(y=\"Data Points\", width=0.65, color=\"teal\", legend=False)\n",
    "plt.ylabel(\"Total Treatments\")\n",
    "plt.xlabel('treatment regimen')\n",
    "plt.title(\"Number of Data Points Per treatment\")\n",
    "plt.xlim(-0.5,9.5)\n",
    "plt.ylim(0,250)\n",
    "plt.xticks(rotation=45)\n",
    "plt.rcParams[\"figure.figsize\"] = (14, 4)\n",
    "plt.show()"
   ]
  },
  {
   "cell_type": "markdown",
   "metadata": {},
   "source": [
    "## Pie plots"
   ]
  },
  {
   "cell_type": "code",
   "execution_count": 297,
   "metadata": {},
   "outputs": [
    {
     "data": {
      "image/png": "[encoded data removed]",
      "text/plain": [
       "<Figure size 1008x288 with 1 Axes>"
      ]
     },
     "metadata": {},
     "output_type": "display_data"
    }
   ],
   "source": [
    "# Generate a pie plot showing the distribution of female versus male mice using pandas\n",
    "Mouse_gender = combined_meta_mouse.Sex.value_counts()\n",
    "Mouse_gender.plot(kind=\"pie\", autopct=\"%1.1f%%\")\n",
    "plt.title(\"Distribution by Gender\")\n",
    "\n",
    "plt.show()"
   ]
  },
  {
   "cell_type": "code",
   "execution_count": 298,
   "metadata": {},
   "outputs": [
    {
     "data": {
      "image/png": "[encoded data removed]",
      "text/plain": [
       "<Figure size 1008x288 with 1 Axes>"
      ]
     },
     "metadata": {},
     "output_type": "display_data"
    }
   ],
   "source": [
    "# Generate a pie plot showing the distribution of female versus male mice using pyplot\n",
    "plt.pie(Mouse_gender.values, labels=Mouse_gender.values, autopct=\"%1.1f%%\")\n",
    "plt.title(\"Distribution by Gender\")\n",
    "plt.show()"
   ]
  },
  {
   "cell_type": "markdown",
   "metadata": {},
   "source": [
    "## Quartiles, outliers and boxplots"
   ]
  },
  {
   "cell_type": "code",
   "execution_count": 205,
   "metadata": {},
   "outputs": [],
   "source": [
    "#Calculate the final tumor volume of each mouse across four of the most promising treatment regimens. Calculate the IQR and quantitatively determine if there are any potential outliers\n",
    "IQR = combined_meta_mouse.groupby(\"Mouse ID\").max()\n",
    "#Reconfigure the index from groupby function\n",
    "Reconfigure = IQR.reset_index()\n",
    "#Create a new variable using columns of interest\n",
    "New_outlier = Variable[[\"Mouse ID\", \"Timepoint\"]].merge(combined_meta_mouse, on=[\"Mouse ID\", \"Timepoint\"], how=\"left\")\n",
    "#Capomulin, Ramicane, Infubinol, and Ceftamin Analysis\n",
    "Capomulin = New_outlier.loc[New_outlier[\"Drug Regimen\"]== \"Capomulin\"][\"Tumor Volume (mm3)\"]\n",
    "Ramicane = New_outlier.loc[New_outlier[\"Drug Regimen\"]== \"Ramicane\"][\"Tumor Volume (mm3)\"]\n",
    "Infubinol = New_outlier.loc[New_outlier[\"Drug Regimen\"]== \"Infubinol\"][\"Tumor Volume (mm3)\"]\n",
    "Ceftamin = New_outlier.loc[New_outlier[\"Drug Regimen\"]== \"Ceftamin\"][\"Tumor Volume (mm3)\"]\n"
   ]
  },
  {
   "cell_type": "code",
   "execution_count": 238,
   "metadata": {},
   "outputs": [
    {
     "data": {
      "image/png": "[encoded data removed]",
      "text/plain": [
       "<Figure size 792x432 with 1 Axes>"
      ]
     },
     "metadata": {
      "needs_background": "light"
     },
     "output_type": "display_data"
    }
   ],
   "source": [
    "#Generate a box plot of the final tumor volume of each mouse across four regimens of interest\n",
    "marker = dict(markerfacecolor=\"teal\", markersize=12)\n",
    "plt.boxplot([Capomulin, Ramicane, Infubinol, Ceftamin], labels=[\"Capomulin\", \"Ramicane\", \"Infubinol\", \"Ceftamin\"], flierprops=marker)\n",
    "plt.xlabel(\"Drug Type\")\n",
    "plt.ylabel(\"Tumor Volume\")\n",
    "plt.rcParams[\"figure.figsize\"] = (7, 6)\n",
    "plt.grid()\n",
    "plt.show()"
   ]
  },
  {
   "cell_type": "markdown",
   "metadata": {},
   "source": [
    "## Line and scatter plots"
   ]
  },
  {
   "cell_type": "code",
   "execution_count": 240,
   "metadata": {},
   "outputs": [
    {
     "data": {
      "image/png": "[encoded data removed]",
      "text/plain": [
       "<Figure size 792x432 with 1 Axes>"
      ]
     },
     "metadata": {
      "needs_background": "light"
     },
     "output_type": "display_data"
    }
   ],
   "source": [
    "# Generate a line plot of time point versus tumor volume for a mouse treated with Capomulin\n",
    "Capomulin_interest = combined_meta_mouse.loc[combined_meta_mouse[\"Drug Regimen\"]== \"Capomulin\"]\n",
    "Choice = Capomulin_interest.loc[Capomulin_interest[\"Mouse ID\"]== \"s185\"]\n",
    "plt.plot(Choice[\"Timepoint\"], Choice[\"Tumor Volume (mm3)\"])\n",
    "plt.xlabel(\"Timepoint\")\n",
    "plt.ylabel(\"Tumor Volume\")\n",
    "plt.rcParams[\"figure.figsize\"] = (11, 4)\n",
    "plt.grid()\n",
    "plt.show()"
   ]
  },
  {
   "cell_type": "code",
   "execution_count": 256,
   "metadata": {},
   "outputs": [
    {
     "data": {
      "image/png": "[encoded data removed]",
      "text/plain": [
       "<Figure size 792x288 with 1 Axes>"
      ]
     },
     "metadata": {
      "needs_background": "light"
     },
     "output_type": "display_data"
    }
   ],
   "source": [
    "#Generate a scatter plot of mouse weight versus average tumor volume for the Capomulin regimen\n",
    "Capo_reg = combined_meta_mouse[combined_meta_mouse[\"Drug Regimen\"]== \"Capomulin\"]\n",
    "Ave_capo = Capo_reg.groupby(\"Mouse ID\")[\"Tumor Volume (mm3)\", \"Weight (g)\"].mean()\n",
    "weights = Ave_capo[\"Weight (g)\"]\n",
    "Tumor_volume = Ave_capo[\"Tumor Volume (mm3)\"]\n",
    "\n",
    "plt.scatter(weights, Tumor_volume, color=\"blue\", marker=\"o\") \n",
    "plt.ylabel(\"Tumor Vol (mm3)\")\n",
    "plt.xlabel(\"Weight grams\")\n",
    "plt.title(\"Mouse Weight vs Ave Tumor Vol for the Capomulin Regimen\")\n",
    "\n",
    "plt.xticks(range(15,26))\n",
    "plt.yticks(np.arange(20, 52, step=4))\n",
    "plt.grid(b=None, which=\"major\", axis=\"y\", alpha=0.25)\n",
    "plt.xlim(14,26)\n",
    "plt.ylim(30,50)\n",
    "plt.show()"
   ]
  },
  {
   "cell_type": "code",
   "execution_count": 290,
   "metadata": {},
   "outputs": [
    {
     "data": {
      "image/png": "[encoded data removed]",
      "text/plain": [
       "<Figure size 792x288 with 1 Axes>"
      ]
     },
     "metadata": {
      "needs_background": "light"
     },
     "output_type": "display_data"
    },
    {
     "name": "stdout",
     "output_type": "stream",
     "text": [
      "y = 0.95x + 21.55\n"
     ]
    }
   ],
   "source": [
    "# Calculate the correlation coefficient and linear regression model for \n",
    "# mouse weight and average tumor volume for the Capomulin regimen\n",
    "# Add the linear regression equation and line to plot\n",
    "from matplotlib import pyplot as plt\n",
    "from scipy.stats import linregress\n",
    "\n",
    "\n",
    "Capo_reg = combined_meta_mouse[combined_meta_mouse[\"Drug Regimen\"]== \"Capomulin\"]\n",
    "Ave_capo = Capo_reg.groupby(\"Mouse ID\")[\"Tumor Volume (mm3)\", \"Weight (g)\"].mean()\n",
    "weights = Ave_capo[\"Weight (g)\"]\n",
    "Tumor_volume = Ave_capo[\"Tumor Volume (mm3)\"]\n",
    "(slope, intercept, rvalue, pvalue, stderr) = linregress(weights, Tumor_volume)\n",
    "regress_values = weights * slope + intercept\n",
    "line_eq = \"y = \" + str(round(slope,2)) + \"x + \" + str(round(intercept,2))\n",
    "\n",
    "plt.scatter(weights, Tumor_volume, color=\"blue\", marker=\"o\") \n",
    "plt.plot(weights, regress_values,\"r-\")\n",
    "\n",
    "plt.ylabel(\"Tumor Vol (mm3)\")\n",
    "plt.xlabel(\"Weight grams\")\n",
    "plt.title(\"Mouse Weight vs Ave Tumor Vol for the Capomulin Regimen\")\n",
    "\n",
    "plt.xticks(range(15,26))\n",
    "plt.yticks(np.arange(20, 52, step=4))\n",
    "plt.grid(b=None, which=\"major\", axis=\"y\", alpha=0.25)\n",
    "plt.xlim(14,26)\n",
    "plt.ylim(30,50)\n",
    "plt.annotate(line_eq,(22,33),fontsize=12,color=\"red\")\n",
    "\n",
    "plt.show()\n",
    "print(line_eq)\n"
   ]
  },
  {
   "cell_type": "code",
   "execution_count": null,
   "metadata": {},
   "outputs": [],
   "source": []
  }
 ],
 "metadata": {
  "anaconda-cloud": {},
  "kernelspec": {
   "display_name": "Python 3",
   "language": "python",
   "name": "python3"
  },
  "language_info": {
   "codemirror_mode": {
    "name": "ipython",
    "version": 3
   },
   "file_extension": ".py",
   "mimetype": "text/x-python",
   "name": "python",
   "nbconvert_exporter": "python",
   "pygments_lexer": "ipython3",
   "version": "3.7.4"
  }
 },
 "nbformat": 4,
 "nbformat_minor": 2
}
